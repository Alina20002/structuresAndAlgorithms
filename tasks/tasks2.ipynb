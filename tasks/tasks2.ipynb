{
 "cells": [
  {
   "cell_type": "markdown",
   "id": "2795d70e",
   "metadata": {},
   "source": [
    "Задачи 04.02.2022\n",
    "Выполнил студент группы БВТ2004 Гатауллова Алина Альфредовна"
   ]
  },
  {
   "cell_type": "code",
   "execution_count": 2,
   "id": "772e71e7",
   "metadata": {},
   "outputs": [
    {
     "name": "stdout",
     "output_type": "stream",
     "text": [
      "Введите количество элементов массива: 5\n",
      "2\n",
      "3\n",
      "1\n",
      "4\n",
      "5\n",
      "Стороны треугольника:  5 4 3 Периметр равен -  12 "
     ]
    }
   ],
   "source": [
    "#1 Массив A состоит из целых положительных чисел длин отрезков. \n",
    "#Составьте из трех отрезков такой треугольник, чтобы его периметр был максимально возможным. \n",
    "#Если невозможно составить треугольник с положительной площадью функция возвращает 0.\n",
    "def Triangle(a, b, c):\n",
    "    return a + b > c and a + c > b and b + c > a\n",
    "\n",
    "n = int(input(\"Введите количество элементов массива: \"))\n",
    "M = [int(input()) for i in range (n)]\n",
    "M.sort(reverse= True)\n",
    "\n",
    "for i in range(n):\n",
    "    if Triangle(M[i], M[i+1], M[i+2]):\n",
    "        print(\"Стороны треугольника: \", M[i], M[i+1], M[i+2], \"Периметр равен - \", (M[i]+M[i+1]+M[i+2]), end = \" \")\n",
    "        break"
   ]
  },
  {
   "cell_type": "code",
   "execution_count": 6,
   "id": "f089afe0",
   "metadata": {},
   "outputs": [
    {
     "name": "stdout",
     "output_type": "stream",
     "text": [
      "3\n",
      "1\n",
      "2\n",
      "3\n",
      "321"
     ]
    }
   ],
   "source": [
    "#2 Дан массив неотрицательных целых чисел nums. \n",
    "#Расположите их в таком порядке, чтобы вместе они образовали максимально возможное число. \n",
    "#Замечание: Результат может быть очень большим числом, поэтому представьте его как string, а не integer.\n",
    "n=int(input())\n",
    "arr=[0 for i in range(n)]\n",
    "for i in range(n):\n",
    "    arr[i]=int(input())\n",
    "arr.sort()\n",
    "for a in reversed(arr):\n",
    "    print(a,end='')"
   ]
  },
  {
   "cell_type": "code",
   "execution_count": 5,
   "id": "7145f6ca",
   "metadata": {},
   "outputs": [
    {
     "name": "stdout",
     "output_type": "stream",
     "text": [
      "2\n",
      "2\n",
      "0\n",
      "5\n",
      "3\n",
      "4\n",
      "0 5 \n",
      "3 4 \n",
      "\n",
      "\n",
      "0 3 \n",
      "5 4 \n"
     ]
    }
   ],
   "source": [
    "#3 Дана матрица mat размером m * n, значения целочисленные. \n",
    "# Напишите функцию, сортирующую каждую диагональ матрицы по возрастанию и возвращающую получившуюся матрицу.\n",
    "m = int(input())\n",
    "n = int(input())\n",
    "mat = [[0]*n for i in range(m)]\n",
    "for i in range(m):\n",
    "    for j in range(n):\n",
    "        mat[i][j] = int(input())\n",
    "\n",
    "for i in range(len(mat)): # len(mat) - возвращает количество строк в матрице mat\n",
    "    for j in range(len(mat[i])): # len(mat[i]) - возвращает количество элементов в строке i\n",
    "        print(mat[i][j], end = ' ')\n",
    "    print()\n",
    "\n",
    "x, y = [], []\n",
    "for i in range(m):\n",
    "    for j in range(n):\n",
    "        if i == j:\n",
    "            x.append(mat[i][j])\n",
    "        elif j == n - 1 - i:\n",
    "            y.append(mat[i][j])\n",
    "x = sorted(x)\n",
    "y = sorted(y)\n",
    "for i in range(m):\n",
    "    for j in range(n):\n",
    "        if i == j:\n",
    "            mat[i][j] = min(x)\n",
    "            x.remove(min(x))\n",
    "        elif j == n - 1 - i:\n",
    "            mat[i][j] = min(y)\n",
    "            y.remove(min(y))\n",
    "    print()\n",
    "for i in range(len(mat)):\n",
    "    for j in range(len(mat[i])):\n",
    "        print(mat[i][j], end = ' ')\n",
    "    print()"
   ]
  },
  {
   "cell_type": "code",
   "execution_count": null,
   "id": "b88f165b",
   "metadata": {},
   "outputs": [],
   "source": []
  }
 ],
 "metadata": {
  "kernelspec": {
   "display_name": "Python 3 (ipykernel)",
   "language": "python",
   "name": "python3"
  },
  "language_info": {
   "codemirror_mode": {
    "name": "ipython",
    "version": 3
   },
   "file_extension": ".py",
   "mimetype": "text/x-python",
   "name": "python",
   "nbconvert_exporter": "python",
   "pygments_lexer": "ipython3",
   "version": "3.9.7"
  }
 },
 "nbformat": 4,
 "nbformat_minor": 5
}
